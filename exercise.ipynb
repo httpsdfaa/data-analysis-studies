{
 "cells": [
  {
   "cell_type": "code",
   "execution_count": 1,
   "id": "9422ec6b-0e88-4706-979a-8ce980fad019",
   "metadata": {
    "tags": []
   },
   "outputs": [],
   "source": [
    "import pandas as pd"
   ]
  },
  {
   "cell_type": "code",
   "execution_count": 2,
   "id": "7b078284-25c2-45ea-ae8b-1206d3b4558c",
   "metadata": {
    "tags": []
   },
   "outputs": [],
   "source": [
    "# CRIANDO DATAFRAME\n",
    "fruits_dataframe = pd.DataFrame({'Apples': [30], 'Bananas':[21]})"
   ]
  },
  {
   "cell_type": "code",
   "execution_count": 4,
   "id": "10768e57-a30d-48ce-820b-d4974392ed6a",
   "metadata": {
    "tags": []
   },
   "outputs": [
    {
     "data": {
      "text/html": [
       "<div>\n",
       "<style scoped>\n",
       "    .dataframe tbody tr th:only-of-type {\n",
       "        vertical-align: middle;\n",
       "    }\n",
       "\n",
       "    .dataframe tbody tr th {\n",
       "        vertical-align: top;\n",
       "    }\n",
       "\n",
       "    .dataframe thead th {\n",
       "        text-align: right;\n",
       "    }\n",
       "</style>\n",
       "<table border=\"1\" class=\"dataframe\">\n",
       "  <thead>\n",
       "    <tr style=\"text-align: right;\">\n",
       "      <th></th>\n",
       "      <th>Apples</th>\n",
       "      <th>Bananas</th>\n",
       "    </tr>\n",
       "  </thead>\n",
       "  <tbody>\n",
       "    <tr>\n",
       "      <th>0</th>\n",
       "      <td>30</td>\n",
       "      <td>21</td>\n",
       "    </tr>\n",
       "  </tbody>\n",
       "</table>\n",
       "</div>"
      ],
      "text/plain": [
       "   Apples  Bananas\n",
       "0      30       21"
      ]
     },
     "execution_count": 4,
     "metadata": {},
     "output_type": "execute_result"
    }
   ],
   "source": [
    "fruits_dataframe"
   ]
  },
  {
   "cell_type": "code",
   "execution_count": 6,
   "id": "e5361987-c109-41b7-8422-e9db3c1bb820",
   "metadata": {
    "tags": []
   },
   "outputs": [],
   "source": [
    "fruit_sales = pd.DataFrame({'Apples':[35, 41], 'Bananas':[21, 34]}, index=['2017 Sales', '2018 Sales'])"
   ]
  },
  {
   "cell_type": "code",
   "execution_count": 7,
   "id": "2e1ab478-4e26-4c73-abc1-a4f36d297ee8",
   "metadata": {
    "tags": []
   },
   "outputs": [
    {
     "data": {
      "text/html": [
       "<div>\n",
       "<style scoped>\n",
       "    .dataframe tbody tr th:only-of-type {\n",
       "        vertical-align: middle;\n",
       "    }\n",
       "\n",
       "    .dataframe tbody tr th {\n",
       "        vertical-align: top;\n",
       "    }\n",
       "\n",
       "    .dataframe thead th {\n",
       "        text-align: right;\n",
       "    }\n",
       "</style>\n",
       "<table border=\"1\" class=\"dataframe\">\n",
       "  <thead>\n",
       "    <tr style=\"text-align: right;\">\n",
       "      <th></th>\n",
       "      <th>Apples</th>\n",
       "      <th>Bananas</th>\n",
       "    </tr>\n",
       "  </thead>\n",
       "  <tbody>\n",
       "    <tr>\n",
       "      <th>2017 Sales</th>\n",
       "      <td>35</td>\n",
       "      <td>21</td>\n",
       "    </tr>\n",
       "    <tr>\n",
       "      <th>2018 Sales</th>\n",
       "      <td>41</td>\n",
       "      <td>34</td>\n",
       "    </tr>\n",
       "  </tbody>\n",
       "</table>\n",
       "</div>"
      ],
      "text/plain": [
       "            Apples  Bananas\n",
       "2017 Sales      35       21\n",
       "2018 Sales      41       34"
      ]
     },
     "execution_count": 7,
     "metadata": {},
     "output_type": "execute_result"
    }
   ],
   "source": [
    "fruit_sales"
   ]
  },
  {
   "cell_type": "code",
   "execution_count": 8,
   "id": "0b65fcf9-9d81-44bf-ac98-db85820c4203",
   "metadata": {
    "tags": []
   },
   "outputs": [],
   "source": [
    "# Criando Series\n",
    "ingredients = pd.Series([\n",
    "    '4 cups',\n",
    "    '1 cup',\n",
    "    '2 large',\n",
    "    '1 can'\n",
    "], index=['Flour', 'Milk', 'Eggs', 'Spam'], name='Dinner')"
   ]
  },
  {
   "cell_type": "code",
   "execution_count": 9,
   "id": "6678d8aa-cde5-4cd9-aa8e-dae7cad776cd",
   "metadata": {
    "tags": []
   },
   "outputs": [
    {
     "data": {
      "text/plain": [
       "Flour     4 cups\n",
       "Milk       1 cup\n",
       "Eggs     2 large\n",
       "Spam       1 can\n",
       "Name: Dinner, dtype: object"
      ]
     },
     "execution_count": 9,
     "metadata": {},
     "output_type": "execute_result"
    }
   ],
   "source": [
    "ingredients"
   ]
  },
  {
   "cell_type": "code",
   "execution_count": null,
   "id": "3518bcf5-863b-4a2a-a98d-a97100f67732",
   "metadata": {},
   "outputs": [],
   "source": []
  }
 ],
 "metadata": {
  "kernelspec": {
   "display_name": "Python 3 (ipykernel)",
   "language": "python",
   "name": "python3"
  },
  "language_info": {
   "codemirror_mode": {
    "name": "ipython",
    "version": 3
   },
   "file_extension": ".py",
   "mimetype": "text/x-python",
   "name": "python",
   "nbconvert_exporter": "python",
   "pygments_lexer": "ipython3",
   "version": "3.11.5"
  }
 },
 "nbformat": 4,
 "nbformat_minor": 5
}
